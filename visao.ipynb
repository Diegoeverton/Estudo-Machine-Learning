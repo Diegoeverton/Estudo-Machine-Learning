{
 "cells": [
  {
   "cell_type": "code",
   "execution_count": 2,
   "metadata": {},
   "outputs": [
    {
     "name": "stderr",
     "output_type": "stream",
     "text": [
      "<>:5: SyntaxWarning: invalid escape sequence '\\w'\n",
      "<>:5: SyntaxWarning: invalid escape sequence '\\w'\n",
      "C:\\Users\\diego\\AppData\\Local\\Temp\\ipykernel_12340\\4028707769.py:5: SyntaxWarning: invalid escape sequence '\\w'\n",
      "  image_path = 'Imagens\\workplace-1245776_1920.jpg'\n"
     ]
    },
    {
     "name": "stdout",
     "output_type": "stream",
     "text": [
      "A imagem foi verificada e está acessível com PIL.\n"
     ]
    }
   ],
   "source": [
    "import cv2\n",
    "from PIL import Image\n",
    "\n",
    "# Caminho para a imagem enviada\n",
    "image_path = 'Imagens\\workplace-1245776_1920.jpg'\n",
    "\n",
    "# Verificar se o arquivo pode ser aberto com PIL\n",
    "try:\n",
    "    img = Image.open(image_path)\n",
    "    img.verify()\n",
    "    print(\"A imagem foi verificada e está acessível com PIL.\")\n",
    "except (IOError, SyntaxError) as e:\n",
    "    print(f\"Erro ao verificar a imagem com PIL: {e}\")\n",
    "\n",
    "# Ler a imagem com OpenCV\n",
    "image = cv2.imread(image_path)\n",
    "\n",
    "# Verificar se a imagem foi lida corretamente com OpenCV\n",
    "if image is None:\n",
    "    print(\"Não foi possível ler a imagem com OpenCV.\")\n",
    "else:\n",
    "    # Mostrar a imagem\n",
    "    cv2.imshow('Imagem', image)\n",
    "    cv2.waitKey(0)  # Espera até que uma tecla seja pressionada\n",
    "    cv2.destroyAllWindows()  # Fecha a janela da imagem\n"
   ]
  },
  {
   "cell_type": "code",
   "execution_count": 3,
   "metadata": {},
   "outputs": [
    {
     "name": "stderr",
     "output_type": "stream",
     "text": [
      "<>:1: SyntaxWarning: invalid escape sequence '\\h'\n",
      "<>:1: SyntaxWarning: invalid escape sequence '\\h'\n",
      "C:\\Users\\diego\\AppData\\Local\\Temp\\ipykernel_12340\\2135449913.py:1: SyntaxWarning: invalid escape sequence '\\h'\n",
      "  detector_face = cv2.CascadeClassifier('Cascades OpenCV\\haarcascade_frontalface_default.xml')\n"
     ]
    }
   ],
   "source": [
    "detector_face = cv2.CascadeClassifier('Cascades OpenCV\\haarcascade_frontalface_default.xml')"
   ]
  },
  {
   "cell_type": "code",
   "execution_count": 4,
   "metadata": {},
   "outputs": [],
   "source": [
    "imagem_cinza = cv2.cvtColor(image, cv2.COLOR_BGR2GRAY)"
   ]
  },
  {
   "cell_type": "code",
   "execution_count": 5,
   "metadata": {},
   "outputs": [],
   "source": [
    "cv2.imshow('Imagem em Escala de Cinza', imagem_cinza)\n",
    "cv2.waitKey(0)  # Espera até que uma tecla seja pressionada\n",
    "cv2.destroyAllWindows()  # Fecha a janela da imagem"
   ]
  },
  {
   "cell_type": "code",
   "execution_count": 6,
   "metadata": {},
   "outputs": [],
   "source": [
    "deteccoes = detector_face.detectMultiScale(imagem_cinza, scaleFactor=1.3, minSize=(30,30))"
   ]
  },
  {
   "cell_type": "code",
   "execution_count": 7,
   "metadata": {},
   "outputs": [
    {
     "data": {
      "text/plain": [
       "array([[1635,  156,  147,  147],\n",
       "       [ 284,  262,  114,  114],\n",
       "       [1149,  260,  129,  129],\n",
       "       [ 928,  491,  171,  171],\n",
       "       [ 222,  507,  151,  151]])"
      ]
     },
     "execution_count": 7,
     "metadata": {},
     "output_type": "execute_result"
    }
   ],
   "source": [
    "deteccoes"
   ]
  },
  {
   "cell_type": "code",
   "execution_count": 8,
   "metadata": {},
   "outputs": [
    {
     "data": {
      "text/plain": [
       "5"
      ]
     },
     "execution_count": 8,
     "metadata": {},
     "output_type": "execute_result"
    }
   ],
   "source": [
    "len(deteccoes)"
   ]
  },
  {
   "cell_type": "code",
   "execution_count": 9,
   "metadata": {},
   "outputs": [],
   "source": [
    "for (x, y, l, a) in deteccoes:\n",
    "  #print(x, y, l, a)\n",
    "  cv2.rectangle(image, (x, y), (x + l, y + a), (0,255,0), 2)\n",
    "cv2.imshow('Imagem com Detecções', image)\n",
    "cv2.waitKey(0)\n",
    "cv2.destroyAllWindows()"
   ]
  },
  {
   "cell_type": "markdown",
   "metadata": {},
   "source": [
    "primerio detecta o rosto na imagem na escala de cina e depois coloca o retangulo na imagem original"
   ]
  },
  {
   "cell_type": "markdown",
   "metadata": {},
   "source": [
    "### Exercicio"
   ]
  },
  {
   "cell_type": "code",
   "execution_count": 10,
   "metadata": {},
   "outputs": [
    {
     "name": "stderr",
     "output_type": "stream",
     "text": [
      "<>:5: SyntaxWarning: invalid escape sequence '\\p'\n",
      "<>:5: SyntaxWarning: invalid escape sequence '\\p'\n",
      "C:\\Users\\diego\\AppData\\Local\\Temp\\ipykernel_12340\\4282398857.py:5: SyntaxWarning: invalid escape sequence '\\p'\n",
      "  image_path = 'Imagens\\pessoas.jpg'\n"
     ]
    },
    {
     "name": "stdout",
     "output_type": "stream",
     "text": [
      "A imagem foi verificada e está acessível com PIL.\n"
     ]
    }
   ],
   "source": [
    "import cv2\n",
    "from PIL import Image\n",
    "\n",
    "# Caminho para a imagem enviada\n",
    "image_path = 'Imagens\\pessoas.jpg'\n",
    "\n",
    "# Verificar se o arquivo pode ser aberto com PIL\n",
    "try:\n",
    "    img = Image.open(image_path)\n",
    "    img.verify()\n",
    "    print(\"A imagem foi verificada e está acessível com PIL.\")\n",
    "except (IOError, SyntaxError) as e:\n",
    "    print(f\"Erro ao verificar a imagem com PIL: {e}\")\n",
    "\n",
    "# Ler a imagem com OpenCV\n",
    "image = cv2.imread(image_path)\n",
    "\n",
    "# Verificar se a imagem foi lida corretamente com OpenCV\n",
    "if image is None:\n",
    "    print(\"Não foi possível ler a imagem com OpenCV.\")\n",
    "else:\n",
    "    # Mostrar a imagem\n",
    "    cv2.imshow('Imagem', image)\n",
    "    cv2.waitKey(0)  # Espera até que uma tecla seja pressionada\n",
    "    cv2.destroyAllWindows()  # Fecha a janela da imagem\n"
   ]
  },
  {
   "cell_type": "code",
   "execution_count": 11,
   "metadata": {},
   "outputs": [],
   "source": [
    "detector_face = cv2.CascadeClassifier('CCascades OpenCV\\fullbody.xml')"
   ]
  },
  {
   "cell_type": "code",
   "execution_count": 12,
   "metadata": {},
   "outputs": [],
   "source": [
    "imagem_cinza = cv2.cvtColor(image, cv2.COLOR_BGR2GRAY)"
   ]
  },
  {
   "cell_type": "code",
   "execution_count": 13,
   "metadata": {},
   "outputs": [],
   "source": [
    "cv2.imshow('Imagem em Escala de Cinza', imagem_cinza)\n",
    "cv2.waitKey(0)  # Espera até que uma tecla seja pressionada\n",
    "cv2.destroyAllWindows()  # Fecha a janela da imagem"
   ]
  },
  {
   "cell_type": "code",
   "execution_count": 18,
   "metadata": {},
   "outputs": [
    {
     "name": "stderr",
     "output_type": "stream",
     "text": [
      "<>:5: SyntaxWarning: invalid escape sequence '\\p'\n",
      "<>:5: SyntaxWarning: invalid escape sequence '\\p'\n",
      "C:\\Users\\diego\\AppData\\Local\\Temp\\ipykernel_12340\\4282398857.py:5: SyntaxWarning: invalid escape sequence '\\p'\n",
      "  image_path = 'Imagens\\pessoas.jpg'\n"
     ]
    },
    {
     "name": "stdout",
     "output_type": "stream",
     "text": [
      "A imagem foi verificada e está acessível com PIL.\n"
     ]
    }
   ],
   "source": [
    "import cv2\n",
    "from PIL import Image\n",
    "\n",
    "# Caminho para a imagem enviada\n",
    "image_path = 'Imagens\\pessoas.jpg'\n",
    "\n",
    "# Verificar se o arquivo pode ser aberto com PIL\n",
    "try:\n",
    "    img = Image.open(image_path)\n",
    "    img.verify()\n",
    "    print(\"A imagem foi verificada e está acessível com PIL.\")\n",
    "except (IOError, SyntaxError) as e:\n",
    "    print(f\"Erro ao verificar a imagem com PIL: {e}\")\n",
    "\n",
    "# Ler a imagem com OpenCV\n",
    "image = cv2.imread(image_path)\n",
    "\n",
    "# Verificar se a imagem foi lida corretamente com OpenCV\n",
    "if image is None:\n",
    "    print(\"Não foi possível ler a imagem com OpenCV.\")\n",
    "else:\n",
    "    # Mostrar a imagem\n",
    "    cv2.imshow('Imagem', image)\n",
    "    cv2.waitKey(0)  # Espera até que uma tecla seja pressionada\n",
    "    cv2.destroyAllWindows()  # Fecha a janela da imagem\n"
   ]
  },
  {
   "cell_type": "code",
   "execution_count": 19,
   "metadata": {},
   "outputs": [],
   "source": [
    "detector_face = cv2.CascadeClassifier('Cascades OpenCV\\fullbody.xml')"
   ]
  },
  {
   "cell_type": "code",
   "execution_count": 24,
   "metadata": {},
   "outputs": [
    {
     "ename": "error",
     "evalue": "OpenCV(4.10.0) D:\\a\\opencv-python\\opencv-python\\opencv\\modules\\objdetect\\src\\cascadedetect.cpp:1689: error: (-215:Assertion failed) !empty() in function 'cv::CascadeClassifier::detectMultiScale'\n",
     "output_type": "error",
     "traceback": [
      "\u001b[1;31m---------------------------------------------------------------------------\u001b[0m",
      "\u001b[1;31merror\u001b[0m                                     Traceback (most recent call last)",
      "Cell \u001b[1;32mIn[24], line 6\u001b[0m\n\u001b[0;32m      4\u001b[0m cv2\u001b[38;5;241m.\u001b[39mdestroyAllWindows()  \u001b[38;5;66;03m# Fecha a janela da imagem\u001b[39;00m\n\u001b[0;32m      5\u001b[0m detector_face \u001b[38;5;241m=\u001b[39m cv2\u001b[38;5;241m.\u001b[39mCascadeClassifier(\u001b[38;5;124m'\u001b[39m\u001b[38;5;124mCascades OpenCV\u001b[39m\u001b[38;5;130;01m\\f\u001b[39;00m\u001b[38;5;124mullbody.xml\u001b[39m\u001b[38;5;124m'\u001b[39m)\n\u001b[1;32m----> 6\u001b[0m deteccoes \u001b[38;5;241m=\u001b[39m \u001b[43mdetector_face\u001b[49m\u001b[38;5;241;43m.\u001b[39;49m\u001b[43mdetectMultiScale\u001b[49m\u001b[43m(\u001b[49m\u001b[43mimagem_cinza\u001b[49m\u001b[43m,\u001b[49m\u001b[43m \u001b[49m\u001b[43mminSize\u001b[49m\u001b[38;5;241;43m=\u001b[39;49m\u001b[43m(\u001b[49m\u001b[38;5;241;43m30\u001b[39;49m\u001b[43m,\u001b[49m\u001b[38;5;241;43m30\u001b[39;49m\u001b[43m)\u001b[49m\u001b[43m)\u001b[49m\n\u001b[0;32m      7\u001b[0m \u001b[38;5;28;01mfor\u001b[39;00m (x, y, l, a) \u001b[38;5;129;01min\u001b[39;00m deteccoes:\n\u001b[0;32m      8\u001b[0m   \u001b[38;5;66;03m#print(x, y, l, a)\u001b[39;00m\n\u001b[0;32m      9\u001b[0m   cv2\u001b[38;5;241m.\u001b[39mrectangle(image, (x, y), (x \u001b[38;5;241m+\u001b[39m l, y \u001b[38;5;241m+\u001b[39m a), (\u001b[38;5;241m0\u001b[39m,\u001b[38;5;241m255\u001b[39m,\u001b[38;5;241m0\u001b[39m), \u001b[38;5;241m2\u001b[39m)\n",
      "\u001b[1;31merror\u001b[0m: OpenCV(4.10.0) D:\\a\\opencv-python\\opencv-python\\opencv\\modules\\objdetect\\src\\cascadedetect.cpp:1689: error: (-215:Assertion failed) !empty() in function 'cv::CascadeClassifier::detectMultiScale'\n"
     ]
    }
   ],
   "source": [
    "imagem_cinza = cv2.cvtColor(image, cv2.COLOR_BGR2GRAY)\n",
    "cv2.imshow('Imagem em Escala de Cinza', imagem_cinza)\n",
    "cv2.waitKey(0)  # Espera até que uma tecla seja pressionada\n",
    "cv2.destroyAllWindows()  # Fecha a janela da imagem\n",
    "detector_face = cv2.CascadeClassifier('Cascades OpenCV\\fullbody.xml')\n",
    "deteccoes = detector_face.detectMultiScale(imagem_cinza, minSize=(30,30))\n",
    "for (x, y, l, a) in deteccoes:\n",
    "  #print(x, y, l, a)\n",
    "  cv2.rectangle(image, (x, y), (x + l, y + a), (0,255,0), 2)\n",
    "cv2.imshow('Imagem com Detecções', image)\n",
    "cv2.waitKey(0)\n",
    "cv2.destroyAllWindows()"
   ]
  }
 ],
 "metadata": {
  "kernelspec": {
   "display_name": "venv",
   "language": "python",
   "name": "python3"
  },
  "language_info": {
   "codemirror_mode": {
    "name": "ipython",
    "version": 3
   },
   "file_extension": ".py",
   "mimetype": "text/x-python",
   "name": "python",
   "nbconvert_exporter": "python",
   "pygments_lexer": "ipython3",
   "version": "3.12.0"
  }
 },
 "nbformat": 4,
 "nbformat_minor": 2
}
