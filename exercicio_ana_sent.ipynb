{
 "cells": [
  {
   "cell_type": "code",
   "execution_count": 2,
   "metadata": {},
   "outputs": [],
   "source": [
    "import pandas as pd\n",
    "import string\n",
    "import spacy\n",
    "import en_core_web_sm\n",
    "import random\n",
    "import seaborn as sns\n",
    "import numpy as np\n",
    "import re"
   ]
  },
  {
   "cell_type": "code",
   "execution_count": 3,
   "metadata": {},
   "outputs": [
    {
     "name": "stderr",
     "output_type": "stream",
     "text": [
      "<>:1: SyntaxWarning: invalid escape sequence '\\T'\n",
      "<>:1: SyntaxWarning: invalid escape sequence '\\T'\n",
      "C:\\Users\\diego\\AppData\\Local\\Temp\\ipykernel_8252\\2311005181.py:1: SyntaxWarning: invalid escape sequence '\\T'\n",
      "  base_treinamento = pd.read_csv('Bases de dados\\Twitter\\Train50.csv', delimiter = ';')\n"
     ]
    },
    {
     "data": {
      "text/html": [
       "<div>\n",
       "<style scoped>\n",
       "    .dataframe tbody tr th:only-of-type {\n",
       "        vertical-align: middle;\n",
       "    }\n",
       "\n",
       "    .dataframe tbody tr th {\n",
       "        vertical-align: top;\n",
       "    }\n",
       "\n",
       "    .dataframe thead th {\n",
       "        text-align: right;\n",
       "    }\n",
       "</style>\n",
       "<table border=\"1\" class=\"dataframe\">\n",
       "  <thead>\n",
       "    <tr style=\"text-align: right;\">\n",
       "      <th></th>\n",
       "      <th>id</th>\n",
       "      <th>tweet_text</th>\n",
       "      <th>tweet_date</th>\n",
       "      <th>sentiment</th>\n",
       "      <th>query_used</th>\n",
       "    </tr>\n",
       "  </thead>\n",
       "  <tbody>\n",
       "    <tr>\n",
       "      <th>0</th>\n",
       "      <td>1050785521201541121</td>\n",
       "      <td>@Laranjito76 A pessoa certa para isso seria o ...</td>\n",
       "      <td>Fri Oct 12 16:29:25 +0000 2018</td>\n",
       "      <td>1</td>\n",
       "      <td>:)</td>\n",
       "    </tr>\n",
       "    <tr>\n",
       "      <th>1</th>\n",
       "      <td>1050785431955140608</td>\n",
       "      <td>@behin_d_curtain Para mim, é precisamente o co...</td>\n",
       "      <td>Fri Oct 12 16:29:04 +0000 2018</td>\n",
       "      <td>1</td>\n",
       "      <td>:)</td>\n",
       "    </tr>\n",
       "    <tr>\n",
       "      <th>2</th>\n",
       "      <td>1050785401248645120</td>\n",
       "      <td>Vou fazer um video hoje... estou pensando em f...</td>\n",
       "      <td>Fri Oct 12 16:28:56 +0000 2018</td>\n",
       "      <td>1</td>\n",
       "      <td>:)</td>\n",
       "    </tr>\n",
       "    <tr>\n",
       "      <th>3</th>\n",
       "      <td>1050785370982547461</td>\n",
       "      <td>aaaaaaaa amei tanto essas polaroids, nem sei e...</td>\n",
       "      <td>Fri Oct 12 16:28:49 +0000 2018</td>\n",
       "      <td>1</td>\n",
       "      <td>:)</td>\n",
       "    </tr>\n",
       "    <tr>\n",
       "      <th>4</th>\n",
       "      <td>1050785368902131713</td>\n",
       "      <td>Valoriza o coração do menininho que vc tem. El...</td>\n",
       "      <td>Fri Oct 12 16:28:49 +0000 2018</td>\n",
       "      <td>1</td>\n",
       "      <td>:)</td>\n",
       "    </tr>\n",
       "  </tbody>\n",
       "</table>\n",
       "</div>"
      ],
      "text/plain": [
       "                    id                                         tweet_text  \\\n",
       "0  1050785521201541121  @Laranjito76 A pessoa certa para isso seria o ...   \n",
       "1  1050785431955140608  @behin_d_curtain Para mim, é precisamente o co...   \n",
       "2  1050785401248645120  Vou fazer um video hoje... estou pensando em f...   \n",
       "3  1050785370982547461  aaaaaaaa amei tanto essas polaroids, nem sei e...   \n",
       "4  1050785368902131713  Valoriza o coração do menininho que vc tem. El...   \n",
       "\n",
       "                       tweet_date  sentiment query_used  \n",
       "0  Fri Oct 12 16:29:25 +0000 2018          1         :)  \n",
       "1  Fri Oct 12 16:29:04 +0000 2018          1         :)  \n",
       "2  Fri Oct 12 16:28:56 +0000 2018          1         :)  \n",
       "3  Fri Oct 12 16:28:49 +0000 2018          1         :)  \n",
       "4  Fri Oct 12 16:28:49 +0000 2018          1         :)  "
      ]
     },
     "execution_count": 3,
     "metadata": {},
     "output_type": "execute_result"
    }
   ],
   "source": [
    "base_treinamento = pd.read_csv('Bases de dados\\Twitter\\Train50.csv', delimiter = ';')\n",
    "base_treinamento.head()"
   ]
  },
  {
   "cell_type": "code",
   "execution_count": 4,
   "metadata": {},
   "outputs": [
    {
     "data": {
      "text/plain": [
       "(50000, 5)"
      ]
     },
     "execution_count": 4,
     "metadata": {},
     "output_type": "execute_result"
    }
   ],
   "source": [
    "base_treinamento.shape"
   ]
  },
  {
   "cell_type": "code",
   "execution_count": null,
   "metadata": {},
   "outputs": [],
   "source": [
    "# sns.countplot(base_treinamento['sentiment'], label = 'contagem')"
   ]
  },
  {
   "cell_type": "code",
   "execution_count": 5,
   "metadata": {},
   "outputs": [],
   "source": [
    "base_treinamento.drop(['id', 'tweet_date', 'query_used'], axis=1, inplace=True)"
   ]
  },
  {
   "cell_type": "code",
   "execution_count": 6,
   "metadata": {},
   "outputs": [
    {
     "data": {
      "text/html": [
       "<div>\n",
       "<style scoped>\n",
       "    .dataframe tbody tr th:only-of-type {\n",
       "        vertical-align: middle;\n",
       "    }\n",
       "\n",
       "    .dataframe tbody tr th {\n",
       "        vertical-align: top;\n",
       "    }\n",
       "\n",
       "    .dataframe thead th {\n",
       "        text-align: right;\n",
       "    }\n",
       "</style>\n",
       "<table border=\"1\" class=\"dataframe\">\n",
       "  <thead>\n",
       "    <tr style=\"text-align: right;\">\n",
       "      <th></th>\n",
       "      <th>tweet_text</th>\n",
       "      <th>sentiment</th>\n",
       "    </tr>\n",
       "  </thead>\n",
       "  <tbody>\n",
       "    <tr>\n",
       "      <th>0</th>\n",
       "      <td>@Laranjito76 A pessoa certa para isso seria o ...</td>\n",
       "      <td>1</td>\n",
       "    </tr>\n",
       "    <tr>\n",
       "      <th>1</th>\n",
       "      <td>@behin_d_curtain Para mim, é precisamente o co...</td>\n",
       "      <td>1</td>\n",
       "    </tr>\n",
       "    <tr>\n",
       "      <th>2</th>\n",
       "      <td>Vou fazer um video hoje... estou pensando em f...</td>\n",
       "      <td>1</td>\n",
       "    </tr>\n",
       "    <tr>\n",
       "      <th>3</th>\n",
       "      <td>aaaaaaaa amei tanto essas polaroids, nem sei e...</td>\n",
       "      <td>1</td>\n",
       "    </tr>\n",
       "    <tr>\n",
       "      <th>4</th>\n",
       "      <td>Valoriza o coração do menininho que vc tem. El...</td>\n",
       "      <td>1</td>\n",
       "    </tr>\n",
       "  </tbody>\n",
       "</table>\n",
       "</div>"
      ],
      "text/plain": [
       "                                          tweet_text  sentiment\n",
       "0  @Laranjito76 A pessoa certa para isso seria o ...          1\n",
       "1  @behin_d_curtain Para mim, é precisamente o co...          1\n",
       "2  Vou fazer um video hoje... estou pensando em f...          1\n",
       "3  aaaaaaaa amei tanto essas polaroids, nem sei e...          1\n",
       "4  Valoriza o coração do menininho que vc tem. El...          1"
      ]
     },
     "execution_count": 6,
     "metadata": {},
     "output_type": "execute_result"
    }
   ],
   "source": [
    "base_treinamento.head()"
   ]
  },
  {
   "cell_type": "code",
   "execution_count": 8,
   "metadata": {},
   "outputs": [
    {
     "data": {
      "text/plain": [
       "<Axes: >"
      ]
     },
     "execution_count": 8,
     "metadata": {},
     "output_type": "execute_result"
    },
    {
     "data": {
      "image/png": "[encoded data removed]",
      "text/plain": [
       "<Figure size 640x480 with 2 Axes>"
      ]
     },
     "metadata": {},
     "output_type": "display_data"
    }
   ],
   "source": [
    "sns.heatmap(pd.isnull(base_treinamento))"
   ]
  },
  {
   "cell_type": "markdown",
   "metadata": {},
   "source": [
    "### Base Teste"
   ]
  },
  {
   "cell_type": "code",
   "execution_count": 10,
   "metadata": {},
   "outputs": [
    {
     "name": "stderr",
     "output_type": "stream",
     "text": [
      "<>:1: SyntaxWarning: invalid escape sequence '\\T'\n",
      "<>:1: SyntaxWarning: invalid escape sequence '\\T'\n",
      "C:\\Users\\diego\\AppData\\Local\\Temp\\ipykernel_8252\\2903056250.py:1: SyntaxWarning: invalid escape sequence '\\T'\n",
      "  base_teste = pd.read_csv('Bases de dados\\Twitter\\Test.csv', delimiter = ';')\n"
     ]
    },
    {
     "data": {
      "text/html": [
       "<div>\n",
       "<style scoped>\n",
       "    .dataframe tbody tr th:only-of-type {\n",
       "        vertical-align: middle;\n",
       "    }\n",
       "\n",
       "    .dataframe tbody tr th {\n",
       "        vertical-align: top;\n",
       "    }\n",
       "\n",
       "    .dataframe thead th {\n",
       "        text-align: right;\n",
       "    }\n",
       "</style>\n",
       "<table border=\"1\" class=\"dataframe\">\n",
       "  <thead>\n",
       "    <tr style=\"text-align: right;\">\n",
       "      <th></th>\n",
       "      <th>id</th>\n",
       "      <th>tweet_text</th>\n",
       "      <th>tweet_date</th>\n",
       "      <th>sentiment</th>\n",
       "      <th>query_used</th>\n",
       "    </tr>\n",
       "  </thead>\n",
       "  <tbody>\n",
       "    <tr>\n",
       "      <th>0</th>\n",
       "      <td>1029536486021099522</td>\n",
       "      <td>@Gazo1a Nossa! Muito obrigada :)</td>\n",
       "      <td>Wed Aug 15 01:13:20 +0000 2018</td>\n",
       "      <td>1</td>\n",
       "      <td>:)</td>\n",
       "    </tr>\n",
       "    <tr>\n",
       "      <th>1</th>\n",
       "      <td>1029536496368406528</td>\n",
       "      <td>@BerzGamer vai pa puta que te pariu :)</td>\n",
       "      <td>Wed Aug 15 01:13:23 +0000 2018</td>\n",
       "      <td>1</td>\n",
       "      <td>:)</td>\n",
       "    </tr>\n",
       "    <tr>\n",
       "      <th>2</th>\n",
       "      <td>1029536531655131137</td>\n",
       "      <td>QUER MAIS DESCONTOS? (14/08) ⭐⭐⭐⭐⭐ 🌐 Confira n...</td>\n",
       "      <td>Wed Aug 15 01:13:31 +0000 2018</td>\n",
       "      <td>1</td>\n",
       "      <td>:)</td>\n",
       "    </tr>\n",
       "    <tr>\n",
       "      <th>3</th>\n",
       "      <td>1029536560117678081</td>\n",
       "      <td>EU VOU PEGAR VCS, ME AJUDEM GALERA, PELO AMOR ...</td>\n",
       "      <td>Wed Aug 15 01:13:38 +0000 2018</td>\n",
       "      <td>1</td>\n",
       "      <td>:)</td>\n",
       "    </tr>\n",
       "    <tr>\n",
       "      <th>4</th>\n",
       "      <td>1029536605852377088</td>\n",
       "      <td>Estávamos em casa do Zé e eu estava a morrer d...</td>\n",
       "      <td>Wed Aug 15 01:13:49 +0000 2018</td>\n",
       "      <td>1</td>\n",
       "      <td>:)</td>\n",
       "    </tr>\n",
       "  </tbody>\n",
       "</table>\n",
       "</div>"
      ],
      "text/plain": [
       "                    id                                         tweet_text  \\\n",
       "0  1029536486021099522                   @Gazo1a Nossa! Muito obrigada :)   \n",
       "1  1029536496368406528             @BerzGamer vai pa puta que te pariu :)   \n",
       "2  1029536531655131137  QUER MAIS DESCONTOS? (14/08) ⭐⭐⭐⭐⭐ 🌐 Confira n...   \n",
       "3  1029536560117678081  EU VOU PEGAR VCS, ME AJUDEM GALERA, PELO AMOR ...   \n",
       "4  1029536605852377088  Estávamos em casa do Zé e eu estava a morrer d...   \n",
       "\n",
       "                       tweet_date  sentiment query_used  \n",
       "0  Wed Aug 15 01:13:20 +0000 2018          1         :)  \n",
       "1  Wed Aug 15 01:13:23 +0000 2018          1         :)  \n",
       "2  Wed Aug 15 01:13:31 +0000 2018          1         :)  \n",
       "3  Wed Aug 15 01:13:38 +0000 2018          1         :)  \n",
       "4  Wed Aug 15 01:13:49 +0000 2018          1         :)  "
      ]
     },
     "execution_count": 10,
     "metadata": {},
     "output_type": "execute_result"
    }
   ],
   "source": [
    "base_teste = pd.read_csv('Bases de dados\\Twitter\\Test.csv', delimiter = ';')\n",
    "base_teste.head()"
   ]
  },
  {
   "cell_type": "code",
   "execution_count": 11,
   "metadata": {},
   "outputs": [
    {
     "data": {
      "text/plain": [
       "(5000, 5)"
      ]
     },
     "execution_count": 11,
     "metadata": {},
     "output_type": "execute_result"
    }
   ],
   "source": [
    "base_teste.shape"
   ]
  },
  {
   "cell_type": "code",
   "execution_count": 12,
   "metadata": {},
   "outputs": [],
   "source": [
    "base_teste.drop(['id', 'tweet_date', 'query_used'], axis = 1, inplace=True)"
   ]
  },
  {
   "cell_type": "code",
   "execution_count": 13,
   "metadata": {},
   "outputs": [
    {
     "data": {
      "text/html": [
       "<div>\n",
       "<style scoped>\n",
       "    .dataframe tbody tr th:only-of-type {\n",
       "        vertical-align: middle;\n",
       "    }\n",
       "\n",
       "    .dataframe tbody tr th {\n",
       "        vertical-align: top;\n",
       "    }\n",
       "\n",
       "    .dataframe thead th {\n",
       "        text-align: right;\n",
       "    }\n",
       "</style>\n",
       "<table border=\"1\" class=\"dataframe\">\n",
       "  <thead>\n",
       "    <tr style=\"text-align: right;\">\n",
       "      <th></th>\n",
       "      <th>tweet_text</th>\n",
       "      <th>sentiment</th>\n",
       "    </tr>\n",
       "  </thead>\n",
       "  <tbody>\n",
       "    <tr>\n",
       "      <th>0</th>\n",
       "      <td>@Gazo1a Nossa! Muito obrigada :)</td>\n",
       "      <td>1</td>\n",
       "    </tr>\n",
       "    <tr>\n",
       "      <th>1</th>\n",
       "      <td>@BerzGamer vai pa puta que te pariu :)</td>\n",
       "      <td>1</td>\n",
       "    </tr>\n",
       "    <tr>\n",
       "      <th>2</th>\n",
       "      <td>QUER MAIS DESCONTOS? (14/08) ⭐⭐⭐⭐⭐ 🌐 Confira n...</td>\n",
       "      <td>1</td>\n",
       "    </tr>\n",
       "    <tr>\n",
       "      <th>3</th>\n",
       "      <td>EU VOU PEGAR VCS, ME AJUDEM GALERA, PELO AMOR ...</td>\n",
       "      <td>1</td>\n",
       "    </tr>\n",
       "    <tr>\n",
       "      <th>4</th>\n",
       "      <td>Estávamos em casa do Zé e eu estava a morrer d...</td>\n",
       "      <td>1</td>\n",
       "    </tr>\n",
       "  </tbody>\n",
       "</table>\n",
       "</div>"
      ],
      "text/plain": [
       "                                          tweet_text  sentiment\n",
       "0                   @Gazo1a Nossa! Muito obrigada :)          1\n",
       "1             @BerzGamer vai pa puta que te pariu :)          1\n",
       "2  QUER MAIS DESCONTOS? (14/08) ⭐⭐⭐⭐⭐ 🌐 Confira n...          1\n",
       "3  EU VOU PEGAR VCS, ME AJUDEM GALERA, PELO AMOR ...          1\n",
       "4  Estávamos em casa do Zé e eu estava a morrer d...          1"
      ]
     },
     "execution_count": 13,
     "metadata": {},
     "output_type": "execute_result"
    }
   ],
   "source": [
    "base_teste.head()"
   ]
  },
  {
   "cell_type": "code",
   "execution_count": 14,
   "metadata": {},
   "outputs": [
    {
     "data": {
      "text/plain": [
       "<Axes: >"
      ]
     },
     "execution_count": 14,
     "metadata": {},
     "output_type": "execute_result"
    },
    {
     "data": {
      "image/png": "[encoded data removed]",
      "text/plain": [
       "<Figure size 640x480 with 2 Axes>"
      ]
     },
     "metadata": {},
     "output_type": "display_data"
    }
   ],
   "source": [
    "sns.heatmap(pd.isnull(base_teste))"
   ]
  },
  {
   "cell_type": "markdown",
   "metadata": {},
   "source": [
    "# Função para pré-processamento dos textos\n",
    "\n",
    "- Letras minúsculas\n",
    "- Nome do usuário (@)\n",
    "- URLs\n",
    "- Espaços em branco\n",
    "- Emoticons\n",
    "- Stop words\n",
    "- Lematização\n",
    "- Pontuações"
   ]
  },
  {
   "cell_type": "code",
   "execution_count": 17,
   "metadata": {},
   "outputs": [
    {
     "data": {
      "text/plain": [
       "<spacy.lang.en.English at 0x1cbd22e7da0>"
      ]
     },
     "execution_count": 17,
     "metadata": {},
     "output_type": "execute_result"
    }
   ],
   "source": [
    "pln = en_core_web_sm.load() # instancia o modelo de linguagem natural\n",
    "pln"
   ]
  },
  {
   "cell_type": "code",
   "execution_count": 18,
   "metadata": {},
   "outputs": [],
   "source": [
    "from spacy.lang.pt.stop_words import STOP_WORDS # instancia o stop words"
   ]
  },
  {
   "cell_type": "code",
   "execution_count": 19,
   "metadata": {},
   "outputs": [],
   "source": [
    "stop_words = STOP_WORDS"
   ]
  },
  {
   "cell_type": "code",
   "execution_count": 20,
   "metadata": {},
   "outputs": [],
   "source": [
    "def preprocessamento(texto):\n",
    "    #transforma as letras em minusculas \n",
    "    texto = texto.lower()\n",
    "\n",
    "    # Nome do usuário\n",
    "    texto = re.sub(r\"@[A-Za-z0-9$-_@.&+]+\", ' ', texto) # expressa oregular para remover os arrobas\n",
    "\n",
    "  # URLs\n",
    "    texto = re.sub(r\"https?://[A-Za-z0-9./]+\", ' ', texto) # expressao relugar para remover as urls\n",
    "\n",
    "  # Espaços em branco\n",
    "    texto = re.sub(r\" +\", ' ', texto)\n",
    "\n",
    "  # Emoticons\n",
    "    lista_emocoes = {':)': 'emocaopositiva',\n",
    "                   ':d': 'emocaopositiva',\n",
    "                   ':(': 'emocaonegativa'}\n",
    "    for emocao in lista_emocoes:\n",
    "        texto = texto.replace(emocao, lista_emocoes[emocao])\n",
    "\n",
    "  # Lematização\n",
    "    documento = pln(texto)\n",
    "\n",
    "    lista = []\n",
    "    for token in documento:\n",
    "        lista.append(token.lemma_)\n",
    "\n",
    "    # Stop words e pontuações\n",
    "    lista = [palavra for palavra in lista if palavra not in stop_words and palavra not in string.punctuation]\n",
    "    lista = ' '.join([str(elemento) for elemento in lista if not elemento.isdigit()])\n",
    "\n",
    "    return lista"
   ]
  },
  {
   "cell_type": "code",
   "execution_count": 21,
   "metadata": {},
   "outputs": [],
   "source": [
    "# aplicando a função ao texto\n",
    "base_treinamento['tweet_text'] = base_treinamento['tweet_text'].apply(preprocessamento)"
   ]
  },
  {
   "cell_type": "code",
   "execution_count": 22,
   "metadata": {},
   "outputs": [
    {
     "data": {
      "text/html": [
       "<div>\n",
       "<style scoped>\n",
       "    .dataframe tbody tr th:only-of-type {\n",
       "        vertical-align: middle;\n",
       "    }\n",
       "\n",
       "    .dataframe tbody tr th {\n",
       "        vertical-align: top;\n",
       "    }\n",
       "\n",
       "    .dataframe thead th {\n",
       "        text-align: right;\n",
       "    }\n",
       "</style>\n",
       "<table border=\"1\" class=\"dataframe\">\n",
       "  <thead>\n",
       "    <tr style=\"text-align: right;\">\n",
       "      <th></th>\n",
       "      <th>tweet_text</th>\n",
       "      <th>sentiment</th>\n",
       "    </tr>\n",
       "  </thead>\n",
       "  <tbody>\n",
       "    <tr>\n",
       "      <th>0</th>\n",
       "      <td>pessoa certa vale azevedo emocaopositiva</td>\n",
       "      <td>1</td>\n",
       "    </tr>\n",
       "    <tr>\n",
       "      <th>1</th>\n",
       "      <td>mim precisamente contrário emocaopositiva ch...</td>\n",
       "      <td>1</td>\n",
       "    </tr>\n",
       "    <tr>\n",
       "      <th>2</th>\n",
       "      <td>vou video hoje ... pensando falar meta csgo pa...</td>\n",
       "      <td>1</td>\n",
       "    </tr>\n",
       "    <tr>\n",
       "      <th>3</th>\n",
       "      <td>aaaaaaaa amei polaroid expressar to apaixonada...</td>\n",
       "      <td>1</td>\n",
       "    </tr>\n",
       "    <tr>\n",
       "      <th>4</th>\n",
       "      <td>valoriza coração menininho vc diferente faça s...</td>\n",
       "      <td>1</td>\n",
       "    </tr>\n",
       "    <tr>\n",
       "      <th>5</th>\n",
       "      <td>amiga to emocaopositiva</td>\n",
       "      <td>1</td>\n",
       "    </tr>\n",
       "    <tr>\n",
       "      <th>6</th>\n",
       "      <td>bravo jairo emocaopositiva</td>\n",
       "      <td>1</td>\n",
       "    </tr>\n",
       "    <tr>\n",
       "      <th>7</th>\n",
       "      <td>socorro ksoaksosk acho to usando caixinha so...</td>\n",
       "      <td>1</td>\n",
       "    </tr>\n",
       "    <tr>\n",
       "      <th>8</th>\n",
       "      <td>gosto fazenda emocaopositiva morro medo gali...</td>\n",
       "      <td>1</td>\n",
       "    </tr>\n",
       "    <tr>\n",
       "      <th>9</th>\n",
       "      <td>amanha vou venom emocaopositiva</td>\n",
       "      <td>1</td>\n",
       "    </tr>\n",
       "  </tbody>\n",
       "</table>\n",
       "</div>"
      ],
      "text/plain": [
       "                                          tweet_text  sentiment\n",
       "0           pessoa certa vale azevedo emocaopositiva          1\n",
       "1    mim precisamente contrário emocaopositiva ch...          1\n",
       "2  vou video hoje ... pensando falar meta csgo pa...          1\n",
       "3  aaaaaaaa amei polaroid expressar to apaixonada...          1\n",
       "4  valoriza coração menininho vc diferente faça s...          1\n",
       "5                            amiga to emocaopositiva          1\n",
       "6                         bravo jairo emocaopositiva          1\n",
       "7    socorro ksoaksosk acho to usando caixinha so...          1\n",
       "8    gosto fazenda emocaopositiva morro medo gali...          1\n",
       "9                    amanha vou venom emocaopositiva          1"
      ]
     },
     "execution_count": 22,
     "metadata": {},
     "output_type": "execute_result"
    }
   ],
   "source": [
    "base_treinamento.head(10)"
   ]
  },
  {
   "cell_type": "code",
   "execution_count": 23,
   "metadata": {},
   "outputs": [
    {
     "data": {
      "text/html": [
       "<div>\n",
       "<style scoped>\n",
       "    .dataframe tbody tr th:only-of-type {\n",
       "        vertical-align: middle;\n",
       "    }\n",
       "\n",
       "    .dataframe tbody tr th {\n",
       "        vertical-align: top;\n",
       "    }\n",
       "\n",
       "    .dataframe thead th {\n",
       "        text-align: right;\n",
       "    }\n",
       "</style>\n",
       "<table border=\"1\" class=\"dataframe\">\n",
       "  <thead>\n",
       "    <tr style=\"text-align: right;\">\n",
       "      <th></th>\n",
       "      <th>tweet_text</th>\n",
       "      <th>sentiment</th>\n",
       "    </tr>\n",
       "  </thead>\n",
       "  <tbody>\n",
       "    <tr>\n",
       "      <th>0</th>\n",
       "      <td>pessoa certa vale azevedo emocaopositiva</td>\n",
       "      <td>1</td>\n",
       "    </tr>\n",
       "    <tr>\n",
       "      <th>1</th>\n",
       "      <td>mim precisamente contrário emocaopositiva ch...</td>\n",
       "      <td>1</td>\n",
       "    </tr>\n",
       "    <tr>\n",
       "      <th>2</th>\n",
       "      <td>vou video hoje ... pensando falar meta csgo pa...</td>\n",
       "      <td>1</td>\n",
       "    </tr>\n",
       "    <tr>\n",
       "      <th>3</th>\n",
       "      <td>aaaaaaaa amei polaroid expressar to apaixonada...</td>\n",
       "      <td>1</td>\n",
       "    </tr>\n",
       "    <tr>\n",
       "      <th>4</th>\n",
       "      <td>valoriza coração menininho vc diferente faça s...</td>\n",
       "      <td>1</td>\n",
       "    </tr>\n",
       "    <tr>\n",
       "      <th>5</th>\n",
       "      <td>amiga to emocaopositiva</td>\n",
       "      <td>1</td>\n",
       "    </tr>\n",
       "    <tr>\n",
       "      <th>6</th>\n",
       "      <td>bravo jairo emocaopositiva</td>\n",
       "      <td>1</td>\n",
       "    </tr>\n",
       "    <tr>\n",
       "      <th>7</th>\n",
       "      <td>socorro ksoaksosk acho to usando caixinha so...</td>\n",
       "      <td>1</td>\n",
       "    </tr>\n",
       "    <tr>\n",
       "      <th>8</th>\n",
       "      <td>gosto fazenda emocaopositiva morro medo gali...</td>\n",
       "      <td>1</td>\n",
       "    </tr>\n",
       "    <tr>\n",
       "      <th>9</th>\n",
       "      <td>amanha vou venom emocaopositiva</td>\n",
       "      <td>1</td>\n",
       "    </tr>\n",
       "  </tbody>\n",
       "</table>\n",
       "</div>"
      ],
      "text/plain": [
       "                                          tweet_text  sentiment\n",
       "0           pessoa certa vale azevedo emocaopositiva          1\n",
       "1    mim precisamente contrário emocaopositiva ch...          1\n",
       "2  vou video hoje ... pensando falar meta csgo pa...          1\n",
       "3  aaaaaaaa amei polaroid expressar to apaixonada...          1\n",
       "4  valoriza coração menininho vc diferente faça s...          1\n",
       "5                            amiga to emocaopositiva          1\n",
       "6                         bravo jairo emocaopositiva          1\n",
       "7    socorro ksoaksosk acho to usando caixinha so...          1\n",
       "8    gosto fazenda emocaopositiva morro medo gali...          1\n",
       "9                    amanha vou venom emocaopositiva          1"
      ]
     },
     "execution_count": 23,
     "metadata": {},
     "output_type": "execute_result"
    }
   ],
   "source": [
    "base_treinamento.head(10)"
   ]
  },
  {
   "cell_type": "code",
   "execution_count": 24,
   "metadata": {},
   "outputs": [],
   "source": [
    "base_teste['tweet_text'] = base_teste['tweet_text'].apply(preprocessamento)"
   ]
  },
  {
   "cell_type": "code",
   "execution_count": 25,
   "metadata": {},
   "outputs": [
    {
     "data": {
      "text/html": [
       "<div>\n",
       "<style scoped>\n",
       "    .dataframe tbody tr th:only-of-type {\n",
       "        vertical-align: middle;\n",
       "    }\n",
       "\n",
       "    .dataframe tbody tr th {\n",
       "        vertical-align: top;\n",
       "    }\n",
       "\n",
       "    .dataframe thead th {\n",
       "        text-align: right;\n",
       "    }\n",
       "</style>\n",
       "<table border=\"1\" class=\"dataframe\">\n",
       "  <thead>\n",
       "    <tr style=\"text-align: right;\">\n",
       "      <th></th>\n",
       "      <th>tweet_text</th>\n",
       "      <th>sentiment</th>\n",
       "    </tr>\n",
       "  </thead>\n",
       "  <tbody>\n",
       "    <tr>\n",
       "      <th>0</th>\n",
       "      <td>emocaopositiva</td>\n",
       "      <td>1</td>\n",
       "    </tr>\n",
       "    <tr>\n",
       "      <th>1</th>\n",
       "      <td>pa puta pariu emocaopositiva</td>\n",
       "      <td>1</td>\n",
       "    </tr>\n",
       "    <tr>\n",
       "      <th>2</th>\n",
       "      <td>desconto 14/08 ⭐ ⭐ ⭐ ⭐ ⭐ 🌐 confira link ➔ » co...</td>\n",
       "      <td>1</td>\n",
       "    </tr>\n",
       "    <tr>\n",
       "      <th>3</th>\n",
       "      <td>vou vcs I ajudem galera amor butera emocaoposi...</td>\n",
       "      <td>1</td>\n",
       "    </tr>\n",
       "    <tr>\n",
       "      <th>4</th>\n",
       "      <td>estávamos casa zé morrer sono chego casa fico ...</td>\n",
       "      <td>1</td>\n",
       "    </tr>\n",
       "    <tr>\n",
       "      <th>5</th>\n",
       "      <td>precisa emocaopositiva</td>\n",
       "      <td>1</td>\n",
       "    </tr>\n",
       "    <tr>\n",
       "      <th>6</th>\n",
       "      <td>acaso adoro beijos abraços hahahahaha bue fo...</td>\n",
       "      <td>1</td>\n",
       "    </tr>\n",
       "    <tr>\n",
       "      <th>7</th>\n",
       "      <td>solteiro s sozinho emocaopositiva</td>\n",
       "      <td>1</td>\n",
       "    </tr>\n",
       "    <tr>\n",
       "      <th>8</th>\n",
       "      <td>lindezas cortador kit mário coleção bia cravol...</td>\n",
       "      <td>1</td>\n",
       "    </tr>\n",
       "    <tr>\n",
       "      <th>9</th>\n",
       "      <td>claro emocaopositiva</td>\n",
       "      <td>1</td>\n",
       "    </tr>\n",
       "  </tbody>\n",
       "</table>\n",
       "</div>"
      ],
      "text/plain": [
       "                                          tweet_text  sentiment\n",
       "0                                     emocaopositiva          1\n",
       "1                       pa puta pariu emocaopositiva          1\n",
       "2  desconto 14/08 ⭐ ⭐ ⭐ ⭐ ⭐ 🌐 confira link ➔ » co...          1\n",
       "3  vou vcs I ajudem galera amor butera emocaoposi...          1\n",
       "4  estávamos casa zé morrer sono chego casa fico ...          1\n",
       "5                             precisa emocaopositiva          1\n",
       "6    acaso adoro beijos abraços hahahahaha bue fo...          1\n",
       "7                  solteiro s sozinho emocaopositiva          1\n",
       "8  lindezas cortador kit mário coleção bia cravol...          1\n",
       "9                               claro emocaopositiva          1"
      ]
     },
     "execution_count": 25,
     "metadata": {},
     "output_type": "execute_result"
    }
   ],
   "source": [
    "base_teste.head(10)"
   ]
  },
  {
   "cell_type": "code",
   "execution_count": null,
   "metadata": {},
   "outputs": [],
   "source": []
  },
  {
   "cell_type": "markdown",
   "metadata": {},
   "source": [
    "treinamento da classe"
   ]
  },
  {
   "cell_type": "code",
   "execution_count": 26,
   "metadata": {},
   "outputs": [],
   "source": [
    "exemplo_base_dados = [[\"este trabalho é agradável\", {\"POSITIVO\": True, \"NEGATIVO\": False}],\n",
    "                      [\"este lugar continua assustador\", {\"POSITIVO\": False, \"NEGATIVO\": True}]]"
   ]
  },
  {
   "cell_type": "code",
   "execution_count": 27,
   "metadata": {},
   "outputs": [],
   "source": [
    "base_dados_treinamento_final = []\n",
    "for texto, emocao in zip(base_treinamento['tweet_text'], base_treinamento['sentiment']):\n",
    "  if emocao == 1:\n",
    "    dic = ({'POSITIVO': True, 'NEGATIVO': False})\n",
    "  elif emocao == 0:\n",
    "    dic = ({'POSITIVO': False, 'NEGATIVO': True})\n",
    "\n",
    "  base_dados_treinamento_final.append([texto, dic.copy()])"
   ]
  },
  {
   "cell_type": "code",
   "execution_count": 28,
   "metadata": {},
   "outputs": [
    {
     "data": {
      "text/plain": [
       "50000"
      ]
     },
     "execution_count": 28,
     "metadata": {},
     "output_type": "execute_result"
    }
   ],
   "source": [
    "len(base_dados_treinamento_final)"
   ]
  },
  {
   "cell_type": "code",
   "execution_count": 29,
   "metadata": {},
   "outputs": [
    {
     "data": {
      "text/plain": [
       "[['simplesmente I deixam chateada coisas muitooo I iludir emocaopositiva',\n",
       "  {'POSITIVO': True, 'NEGATIVO': False}],\n",
       " ['começa rotina perfeitamente consolidar escola condução :p',\n",
       "  {'POSITIVO': True, 'NEGATIVO': False}],\n",
       " ['amigo apaixonado vc — recíproco emocaopositiva',\n",
       "  {'POSITIVO': True, 'NEGATIVO': False}],\n",
       " ['  gajo bacano vê I aleijas espero silva sejam felize emocaopositiva',\n",
       "  {'POSITIVO': True, 'NEGATIVO': False}],\n",
       " ['tou video cabrinhas bebés emocaopositiva',\n",
       "  {'POSITIVO': True, 'NEGATIVO': False}]]"
      ]
     },
     "execution_count": 29,
     "metadata": {},
     "output_type": "execute_result"
    }
   ],
   "source": [
    "base_dados_treinamento_final[10:15]"
   ]
  },
  {
   "cell_type": "code",
   "execution_count": 30,
   "metadata": {},
   "outputs": [
    {
     "data": {
      "text/plain": [
       "[['menino pijama listrado filme triste mundo estrutura pra assistir rever to pensando nisso emocaonegativa',\n",
       "  {'POSITIVO': False, 'NEGATIVO': True}],\n",
       " ['pra ido vídeo luísa raiz poliana infelizmente twitter tá ruim amanhã tento postar emocaonegativa asaventurasdepoliana099',\n",
       "  {'POSITIVO': False, 'NEGATIVO': True}],\n",
       " ['to crise abstinência stranger emocaonegativa — tbm :/ to tentando',\n",
       "  {'POSITIVO': False, 'NEGATIVO': True}],\n",
       " ['  tinha esquecido olhar pra pagar mensalidade turma pro curso emocaonegativa',\n",
       "  {'POSITIVO': False, 'NEGATIVO': True}],\n",
       " ['comer doce comi monte hoje emocaonegativa maldição',\n",
       "  {'POSITIVO': False, 'NEGATIVO': True}]]"
      ]
     },
     "execution_count": 30,
     "metadata": {},
     "output_type": "execute_result"
    }
   ],
   "source": [
    "base_dados_treinamento_final[45000:45005]"
   ]
  },
  {
   "cell_type": "markdown",
   "metadata": {},
   "source": [
    "Classificador"
   ]
  },
  {
   "cell_type": "code",
   "execution_count": 31,
   "metadata": {},
   "outputs": [],
   "source": [
    "modelo = spacy.blank('pt')\n",
    "categorias = modelo.add_pipe(\"textcat\")\n",
    "categorias.add_label(\"POSITIVO\")\n",
    "categorias.add_label(\"NEGATIVO\")\n",
    "historico = []"
   ]
  },
  {
   "cell_type": "code",
   "execution_count": 32,
   "metadata": {},
   "outputs": [],
   "source": [
    "from spacy.training import Example"
   ]
  },
  {
   "cell_type": "code",
   "execution_count": 33,
   "metadata": {},
   "outputs": [
    {
     "name": "stdout",
     "output_type": "stream",
     "text": [
      "{'textcat': 1.8321623354313488}\n"
     ]
    }
   ],
   "source": [
    "modelo.begin_training()\n",
    "for epoca in range(5):\n",
    "  random.shuffle(base_dados_treinamento_final)\n",
    "  losses = {}\n",
    "  for batch in spacy.util.minibatch(base_dados_treinamento_final, 512):\n",
    "    textos = [modelo(texto) for texto, entities in batch]\n",
    "    annotations = [{'cats': entities} for texto, entities in batch]\n",
    "    examples = [Example.from_dict(doc, annotation) for doc, annotation in zip(\n",
    "        textos, annotations\n",
    "      )]\n",
    "    modelo.update(examples, losses=losses)\n",
    "    historico.append(losses)\n",
    "  if epoca % 5 == 0:\n",
    "    print(losses)"
   ]
  },
  {
   "cell_type": "code",
   "execution_count": 34,
   "metadata": {},
   "outputs": [],
   "source": [
    "historico_loss = []\n",
    "for i in historico:\n",
    "  historico_loss.append(i.get('textcat'))"
   ]
  },
  {
   "cell_type": "code",
   "execution_count": 35,
   "metadata": {},
   "outputs": [
    {
     "data": {
      "text/plain": [
       "array([1.83216234e+00, 1.83216234e+00, 1.83216234e+00, 1.83216234e+00,\n",
       "       1.83216234e+00, 1.83216234e+00, 1.83216234e+00, 1.83216234e+00,\n",
       "       1.83216234e+00, 1.83216234e+00, 1.83216234e+00, 1.83216234e+00,\n",
       "       1.83216234e+00, 1.83216234e+00, 1.83216234e+00, 1.83216234e+00,\n",
       "       1.83216234e+00, 1.83216234e+00, 1.83216234e+00, 1.83216234e+00,\n",
       "       1.83216234e+00, 1.83216234e+00, 1.83216234e+00, 1.83216234e+00,\n",
       "       1.83216234e+00, 1.83216234e+00, 1.83216234e+00, 1.83216234e+00,\n",
       "       1.83216234e+00, 1.83216234e+00, 1.83216234e+00, 1.83216234e+00,\n",
       "       1.83216234e+00, 1.83216234e+00, 1.83216234e+00, 1.83216234e+00,\n",
       "       1.83216234e+00, 1.83216234e+00, 1.83216234e+00, 1.83216234e+00,\n",
       "       1.83216234e+00, 1.83216234e+00, 1.83216234e+00, 1.83216234e+00,\n",
       "       1.83216234e+00, 1.83216234e+00, 1.83216234e+00, 1.83216234e+00,\n",
       "       1.83216234e+00, 1.83216234e+00, 1.83216234e+00, 1.83216234e+00,\n",
       "       1.83216234e+00, 1.83216234e+00, 1.83216234e+00, 1.83216234e+00,\n",
       "       1.83216234e+00, 1.83216234e+00, 1.83216234e+00, 1.83216234e+00,\n",
       "       1.83216234e+00, 1.83216234e+00, 1.83216234e+00, 1.83216234e+00,\n",
       "       1.83216234e+00, 1.83216234e+00, 1.83216234e+00, 1.83216234e+00,\n",
       "       1.83216234e+00, 1.83216234e+00, 1.83216234e+00, 1.83216234e+00,\n",
       "       1.83216234e+00, 1.83216234e+00, 1.83216234e+00, 1.83216234e+00,\n",
       "       1.83216234e+00, 1.83216234e+00, 1.83216234e+00, 1.83216234e+00,\n",
       "       1.83216234e+00, 1.83216234e+00, 1.83216234e+00, 1.83216234e+00,\n",
       "       1.83216234e+00, 1.83216234e+00, 1.83216234e+00, 1.83216234e+00,\n",
       "       1.83216234e+00, 1.83216234e+00, 1.83216234e+00, 1.83216234e+00,\n",
       "       1.83216234e+00, 1.83216234e+00, 1.83216234e+00, 1.83216234e+00,\n",
       "       1.83216234e+00, 1.83216234e+00, 1.12916931e-01, 1.12916931e-01,\n",
       "       1.12916931e-01, 1.12916931e-01, 1.12916931e-01, 1.12916931e-01,\n",
       "       1.12916931e-01, 1.12916931e-01, 1.12916931e-01, 1.12916931e-01,\n",
       "       1.12916931e-01, 1.12916931e-01, 1.12916931e-01, 1.12916931e-01,\n",
       "       1.12916931e-01, 1.12916931e-01, 1.12916931e-01, 1.12916931e-01,\n",
       "       1.12916931e-01, 1.12916931e-01, 1.12916931e-01, 1.12916931e-01,\n",
       "       1.12916931e-01, 1.12916931e-01, 1.12916931e-01, 1.12916931e-01,\n",
       "       1.12916931e-01, 1.12916931e-01, 1.12916931e-01, 1.12916931e-01,\n",
       "       1.12916931e-01, 1.12916931e-01, 1.12916931e-01, 1.12916931e-01,\n",
       "       1.12916931e-01, 1.12916931e-01, 1.12916931e-01, 1.12916931e-01,\n",
       "       1.12916931e-01, 1.12916931e-01, 1.12916931e-01, 1.12916931e-01,\n",
       "       1.12916931e-01, 1.12916931e-01, 1.12916931e-01, 1.12916931e-01,\n",
       "       1.12916931e-01, 1.12916931e-01, 1.12916931e-01, 1.12916931e-01,\n",
       "       1.12916931e-01, 1.12916931e-01, 1.12916931e-01, 1.12916931e-01,\n",
       "       1.12916931e-01, 1.12916931e-01, 1.12916931e-01, 1.12916931e-01,\n",
       "       1.12916931e-01, 1.12916931e-01, 1.12916931e-01, 1.12916931e-01,\n",
       "       1.12916931e-01, 1.12916931e-01, 1.12916931e-01, 1.12916931e-01,\n",
       "       1.12916931e-01, 1.12916931e-01, 1.12916931e-01, 1.12916931e-01,\n",
       "       1.12916931e-01, 1.12916931e-01, 1.12916931e-01, 1.12916931e-01,\n",
       "       1.12916931e-01, 1.12916931e-01, 1.12916931e-01, 1.12916931e-01,\n",
       "       1.12916931e-01, 1.12916931e-01, 1.12916931e-01, 1.12916931e-01,\n",
       "       1.12916931e-01, 1.12916931e-01, 1.12916931e-01, 1.12916931e-01,\n",
       "       1.12916931e-01, 1.12916931e-01, 1.12916931e-01, 1.12916931e-01,\n",
       "       1.12916931e-01, 1.12916931e-01, 1.12916931e-01, 1.12916931e-01,\n",
       "       1.12916931e-01, 1.12916931e-01, 1.12916931e-01, 1.12916931e-01,\n",
       "       2.48174662e-02, 2.48174662e-02, 2.48174662e-02, 2.48174662e-02,\n",
       "       2.48174662e-02, 2.48174662e-02, 2.48174662e-02, 2.48174662e-02,\n",
       "       2.48174662e-02, 2.48174662e-02, 2.48174662e-02, 2.48174662e-02,\n",
       "       2.48174662e-02, 2.48174662e-02, 2.48174662e-02, 2.48174662e-02,\n",
       "       2.48174662e-02, 2.48174662e-02, 2.48174662e-02, 2.48174662e-02,\n",
       "       2.48174662e-02, 2.48174662e-02, 2.48174662e-02, 2.48174662e-02,\n",
       "       2.48174662e-02, 2.48174662e-02, 2.48174662e-02, 2.48174662e-02,\n",
       "       2.48174662e-02, 2.48174662e-02, 2.48174662e-02, 2.48174662e-02,\n",
       "       2.48174662e-02, 2.48174662e-02, 2.48174662e-02, 2.48174662e-02,\n",
       "       2.48174662e-02, 2.48174662e-02, 2.48174662e-02, 2.48174662e-02,\n",
       "       2.48174662e-02, 2.48174662e-02, 2.48174662e-02, 2.48174662e-02,\n",
       "       2.48174662e-02, 2.48174662e-02, 2.48174662e-02, 2.48174662e-02,\n",
       "       2.48174662e-02, 2.48174662e-02, 2.48174662e-02, 2.48174662e-02,\n",
       "       2.48174662e-02, 2.48174662e-02, 2.48174662e-02, 2.48174662e-02,\n",
       "       2.48174662e-02, 2.48174662e-02, 2.48174662e-02, 2.48174662e-02,\n",
       "       2.48174662e-02, 2.48174662e-02, 2.48174662e-02, 2.48174662e-02,\n",
       "       2.48174662e-02, 2.48174662e-02, 2.48174662e-02, 2.48174662e-02,\n",
       "       2.48174662e-02, 2.48174662e-02, 2.48174662e-02, 2.48174662e-02,\n",
       "       2.48174662e-02, 2.48174662e-02, 2.48174662e-02, 2.48174662e-02,\n",
       "       2.48174662e-02, 2.48174662e-02, 2.48174662e-02, 2.48174662e-02,\n",
       "       2.48174662e-02, 2.48174662e-02, 2.48174662e-02, 2.48174662e-02,\n",
       "       2.48174662e-02, 2.48174662e-02, 2.48174662e-02, 2.48174662e-02,\n",
       "       2.48174662e-02, 2.48174662e-02, 2.48174662e-02, 2.48174662e-02,\n",
       "       2.48174662e-02, 2.48174662e-02, 2.48174662e-02, 2.48174662e-02,\n",
       "       2.48174662e-02, 2.48174662e-02, 6.86479170e-03, 6.86479170e-03,\n",
       "       6.86479170e-03, 6.86479170e-03, 6.86479170e-03, 6.86479170e-03,\n",
       "       6.86479170e-03, 6.86479170e-03, 6.86479170e-03, 6.86479170e-03,\n",
       "       6.86479170e-03, 6.86479170e-03, 6.86479170e-03, 6.86479170e-03,\n",
       "       6.86479170e-03, 6.86479170e-03, 6.86479170e-03, 6.86479170e-03,\n",
       "       6.86479170e-03, 6.86479170e-03, 6.86479170e-03, 6.86479170e-03,\n",
       "       6.86479170e-03, 6.86479170e-03, 6.86479170e-03, 6.86479170e-03,\n",
       "       6.86479170e-03, 6.86479170e-03, 6.86479170e-03, 6.86479170e-03,\n",
       "       6.86479170e-03, 6.86479170e-03, 6.86479170e-03, 6.86479170e-03,\n",
       "       6.86479170e-03, 6.86479170e-03, 6.86479170e-03, 6.86479170e-03,\n",
       "       6.86479170e-03, 6.86479170e-03, 6.86479170e-03, 6.86479170e-03,\n",
       "       6.86479170e-03, 6.86479170e-03, 6.86479170e-03, 6.86479170e-03,\n",
       "       6.86479170e-03, 6.86479170e-03, 6.86479170e-03, 6.86479170e-03,\n",
       "       6.86479170e-03, 6.86479170e-03, 6.86479170e-03, 6.86479170e-03,\n",
       "       6.86479170e-03, 6.86479170e-03, 6.86479170e-03, 6.86479170e-03,\n",
       "       6.86479170e-03, 6.86479170e-03, 6.86479170e-03, 6.86479170e-03,\n",
       "       6.86479170e-03, 6.86479170e-03, 6.86479170e-03, 6.86479170e-03,\n",
       "       6.86479170e-03, 6.86479170e-03, 6.86479170e-03, 6.86479170e-03,\n",
       "       6.86479170e-03, 6.86479170e-03, 6.86479170e-03, 6.86479170e-03,\n",
       "       6.86479170e-03, 6.86479170e-03, 6.86479170e-03, 6.86479170e-03,\n",
       "       6.86479170e-03, 6.86479170e-03, 6.86479170e-03, 6.86479170e-03,\n",
       "       6.86479170e-03, 6.86479170e-03, 6.86479170e-03, 6.86479170e-03,\n",
       "       6.86479170e-03, 6.86479170e-03, 6.86479170e-03, 6.86479170e-03,\n",
       "       6.86479170e-03, 6.86479170e-03, 6.86479170e-03, 6.86479170e-03,\n",
       "       6.86479170e-03, 6.86479170e-03, 6.86479170e-03, 6.86479170e-03,\n",
       "       2.51157333e-04, 2.51157333e-04, 2.51157333e-04, 2.51157333e-04,\n",
       "       2.51157333e-04, 2.51157333e-04, 2.51157333e-04, 2.51157333e-04,\n",
       "       2.51157333e-04, 2.51157333e-04, 2.51157333e-04, 2.51157333e-04,\n",
       "       2.51157333e-04, 2.51157333e-04, 2.51157333e-04, 2.51157333e-04,\n",
       "       2.51157333e-04, 2.51157333e-04, 2.51157333e-04, 2.51157333e-04,\n",
       "       2.51157333e-04, 2.51157333e-04, 2.51157333e-04, 2.51157333e-04,\n",
       "       2.51157333e-04, 2.51157333e-04, 2.51157333e-04, 2.51157333e-04,\n",
       "       2.51157333e-04, 2.51157333e-04, 2.51157333e-04, 2.51157333e-04,\n",
       "       2.51157333e-04, 2.51157333e-04, 2.51157333e-04, 2.51157333e-04,\n",
       "       2.51157333e-04, 2.51157333e-04, 2.51157333e-04, 2.51157333e-04,\n",
       "       2.51157333e-04, 2.51157333e-04, 2.51157333e-04, 2.51157333e-04,\n",
       "       2.51157333e-04, 2.51157333e-04, 2.51157333e-04, 2.51157333e-04,\n",
       "       2.51157333e-04, 2.51157333e-04, 2.51157333e-04, 2.51157333e-04,\n",
       "       2.51157333e-04, 2.51157333e-04, 2.51157333e-04, 2.51157333e-04,\n",
       "       2.51157333e-04, 2.51157333e-04, 2.51157333e-04, 2.51157333e-04,\n",
       "       2.51157333e-04, 2.51157333e-04, 2.51157333e-04, 2.51157333e-04,\n",
       "       2.51157333e-04, 2.51157333e-04, 2.51157333e-04, 2.51157333e-04,\n",
       "       2.51157333e-04, 2.51157333e-04, 2.51157333e-04, 2.51157333e-04,\n",
       "       2.51157333e-04, 2.51157333e-04, 2.51157333e-04, 2.51157333e-04,\n",
       "       2.51157333e-04, 2.51157333e-04, 2.51157333e-04, 2.51157333e-04,\n",
       "       2.51157333e-04, 2.51157333e-04, 2.51157333e-04, 2.51157333e-04,\n",
       "       2.51157333e-04, 2.51157333e-04, 2.51157333e-04, 2.51157333e-04,\n",
       "       2.51157333e-04, 2.51157333e-04, 2.51157333e-04, 2.51157333e-04,\n",
       "       2.51157333e-04, 2.51157333e-04, 2.51157333e-04, 2.51157333e-04,\n",
       "       2.51157333e-04, 2.51157333e-04])"
      ]
     },
     "execution_count": 35,
     "metadata": {},
     "output_type": "execute_result"
    }
   ],
   "source": [
    "historico_loss = np.array(historico_loss)\n",
    "historico_loss"
   ]
  },
  {
   "cell_type": "code",
   "execution_count": 36,
   "metadata": {},
   "outputs": [
    {
     "data": {
      "text/plain": [
       "Text(0, 0.5, 'Erro')"
      ]
     },
     "execution_count": 36,
     "metadata": {},
     "output_type": "execute_result"
    },
    {
     "data": {
      "image/png": "[encoded data removed]",
      "text/plain": [
       "<Figure size 640x480 with 1 Axes>"
      ]
     },
     "metadata": {},
     "output_type": "display_data"
    }
   ],
   "source": [
    "import matplotlib.pyplot as plt\n",
    "plt.plot(historico_loss)\n",
    "plt.title('Progressão do erro')\n",
    "plt.xlabel('Batches')\n",
    "plt.ylabel('Erro')"
   ]
  },
  {
   "cell_type": "code",
   "execution_count": 37,
   "metadata": {},
   "outputs": [],
   "source": [
    "modelo.to_disk(\"modelo\")"
   ]
  },
  {
   "cell_type": "code",
   "execution_count": 38,
   "metadata": {},
   "outputs": [
    {
     "data": {
      "text/plain": [
       "<spacy.lang.pt.Portuguese at 0x1cbdd922ba0>"
      ]
     },
     "execution_count": 38,
     "metadata": {},
     "output_type": "execute_result"
    }
   ],
   "source": [
    "modelo_carregado = spacy.load('modelo')\n",
    "modelo_carregado"
   ]
  },
  {
   "cell_type": "code",
   "execution_count": 39,
   "metadata": {},
   "outputs": [
    {
     "data": {
      "text/plain": [
       "'  fico feliz sabendo q recíproco emocaopositiva'"
      ]
     },
     "execution_count": 39,
     "metadata": {},
     "output_type": "execute_result"
    }
   ],
   "source": [
    "texto_positivo = base_teste['tweet_text'][21]\n",
    "texto_positivo"
   ]
  },
  {
   "cell_type": "code",
   "execution_count": 40,
   "metadata": {},
   "outputs": [
    {
     "data": {
      "text/plain": [
       "  fico feliz sabendo q recíproco emocaopositiva"
      ]
     },
     "execution_count": 40,
     "metadata": {},
     "output_type": "execute_result"
    }
   ],
   "source": [
    "previsao = modelo_carregado(texto_positivo)\n",
    "previsao"
   ]
  },
  {
   "cell_type": "code",
   "execution_count": 41,
   "metadata": {},
   "outputs": [
    {
     "data": {
      "text/plain": [
       "{'POSITIVO': 0.9999998807907104, 'NEGATIVO': 6.92443435923451e-08}"
      ]
     },
     "execution_count": 41,
     "metadata": {},
     "output_type": "execute_result"
    }
   ],
   "source": [
    "previsao.cats"
   ]
  },
  {
   "cell_type": "code",
   "execution_count": 42,
   "metadata": {},
   "outputs": [
    {
     "data": {
      "text/plain": [
       "'gosto'"
      ]
     },
     "execution_count": 42,
     "metadata": {},
     "output_type": "execute_result"
    }
   ],
   "source": [
    "texto_positivo = 'eu gosto muito de você'\n",
    "texto_positivo = preprocessamento(texto_positivo)\n",
    "texto_positivo"
   ]
  },
  {
   "cell_type": "code",
   "execution_count": 43,
   "metadata": {},
   "outputs": [
    {
     "data": {
      "text/plain": [
       "{'POSITIVO': 0.3678397536277771, 'NEGATIVO': 0.6321601867675781}"
      ]
     },
     "execution_count": 43,
     "metadata": {},
     "output_type": "execute_result"
    }
   ],
   "source": [
    "modelo_carregado(texto_positivo).cats"
   ]
  },
  {
   "cell_type": "code",
   "execution_count": 44,
   "metadata": {},
   "outputs": [
    {
     "data": {
      "text/plain": [
       "'tô triste filme mulan mushu emocaonegativa'"
      ]
     },
     "execution_count": 44,
     "metadata": {},
     "output_type": "execute_result"
    }
   ],
   "source": [
    "base_teste['tweet_text'][4000]"
   ]
  },
  {
   "cell_type": "code",
   "execution_count": 45,
   "metadata": {},
   "outputs": [
    {
     "data": {
      "text/plain": [
       "{'POSITIVO': 5.3972105007460414e-08, 'NEGATIVO': 1.0}"
      ]
     },
     "execution_count": 45,
     "metadata": {},
     "output_type": "execute_result"
    }
   ],
   "source": [
    "texto_negativo = base_teste['tweet_text'][4000]\n",
    "previsao = modelo_carregado(texto_negativo)\n",
    "previsao.cats"
   ]
  },
  {
   "cell_type": "markdown",
   "metadata": {},
   "source": [
    "# Avaliação do modelo"
   ]
  },
  {
   "cell_type": "code",
   "execution_count": 46,
   "metadata": {},
   "outputs": [],
   "source": [
    "previsoes = []\n",
    "for texto in base_teste['tweet_text']:\n",
    "  previsao = modelo_carregado(texto)\n",
    "  previsoes.append(previsao.cats)"
   ]
  },
  {
   "cell_type": "code",
   "execution_count": 47,
   "metadata": {},
   "outputs": [],
   "source": [
    "previsoes_final = []\n",
    "for previsao in previsoes:\n",
    "  if previsao['POSITIVO'] > previsao['NEGATIVO']:\n",
    "    previsoes_final.append(1)\n",
    "  else:\n",
    "    previsoes_final.append(0)\n",
    "\n",
    "previsoes_final = np.array(previsoes_final)"
   ]
  },
  {
   "cell_type": "code",
   "execution_count": 48,
   "metadata": {},
   "outputs": [],
   "source": [
    "respostas_reais = base_teste['sentiment'].values"
   ]
  },
  {
   "cell_type": "code",
   "execution_count": 49,
   "metadata": {},
   "outputs": [
    {
     "data": {
      "text/plain": [
       "0.9984"
      ]
     },
     "execution_count": 49,
     "metadata": {},
     "output_type": "execute_result"
    }
   ],
   "source": [
    "from sklearn.metrics import accuracy_score\n",
    "accuracy_score(respostas_reais, previsoes_final)"
   ]
  },
  {
   "cell_type": "code",
   "execution_count": 50,
   "metadata": {},
   "outputs": [],
   "source": [
    "from sklearn.metrics import confusion_matrix\n",
    "cm = confusion_matrix(respostas_reais, previsoes_final)"
   ]
  },
  {
   "cell_type": "code",
   "execution_count": 51,
   "metadata": {},
   "outputs": [
    {
     "data": {
      "text/plain": [
       "<Axes: >"
      ]
     },
     "execution_count": 51,
     "metadata": {},
     "output_type": "execute_result"
    },
    {
     "data": {
      "image/png": "[encoded data removed]",
      "text/plain": [
       "<Figure size 640x480 with 2 Axes>"
      ]
     },
     "metadata": {},
     "output_type": "display_data"
    }
   ],
   "source": [
    "sns.heatmap(cm, annot=True)"
   ]
  },
  {
   "cell_type": "code",
   "execution_count": null,
   "metadata": {},
   "outputs": [],
   "source": []
  }
 ],
 "metadata": {
  "kernelspec": {
   "display_name": "venv",
   "language": "python",
   "name": "python3"
  },
  "language_info": {
   "codemirror_mode": {
    "name": "ipython",
    "version": 3
   },
   "file_extension": ".py",
   "mimetype": "text/x-python",
   "name": "python",
   "nbconvert_exporter": "python",
   "pygments_lexer": "ipython3",
   "version": "3.12.0"
  }
 },
 "nbformat": 4,
 "nbformat_minor": 2
}
