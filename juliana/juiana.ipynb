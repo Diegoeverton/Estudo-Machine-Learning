{
 "cells": [
  {
   "cell_type": "code",
   "execution_count": 1,
   "metadata": {},
   "outputs": [],
   "source": [
    "import pandas as pd"
   ]
  },
  {
   "cell_type": "code",
   "execution_count": 4,
   "metadata": {},
   "outputs": [
    {
     "name": "stderr",
     "output_type": "stream",
     "text": [
      "<>:68: SyntaxWarning: invalid escape sequence '\\e'\n",
      "<>:68: SyntaxWarning: invalid escape sequence '\\e'\n",
      "C:\\Users\\diego\\AppData\\Local\\Temp\\ipykernel_5380\\3422805699.py:68: SyntaxWarning: invalid escape sequence '\\e'\n",
      "  folder_path = 'notas\\entradas_nf'  # Substitua pelo caminho da sua pasta\n"
     ]
    }
   ],
   "source": [
    "import pandas as pd\n",
    "import xml.etree.ElementTree as ET\n",
    "import os\n",
    "\n",
    "# Função para extrair informações de um único arquivo XML\n",
    "def extract_info(xml_root, infAdProds):\n",
    "    ns = {'nfe': 'http://www.portalfiscal.inf.br/nfe'}\n",
    "    records = []\n",
    "    \n",
    "    # Iterar sobre os detalhes da NF-e\n",
    "    for infNFe in xml_root.findall('.//nfe:infNFe', ns):\n",
    "        for det in infNFe.findall('nfe:det', ns):\n",
    "            record = {}\n",
    "            \n",
    "            # Informações gerais da NF-e\n",
    "            ide = infNFe.find('nfe:ide', ns)\n",
    "            record['cUF'] = ide.find('nfe:cUF', ns).text\n",
    "            record['natOp'] = ide.find('nfe:natOp', ns).text\n",
    "            record['mod'] = ide.find('nfe:mod', ns).text\n",
    "            record['serie'] = ide.find('nfe:serie', ns).text\n",
    "            record['nNF'] = ide.find('nfe:nNF', ns).text\n",
    "            record['dhEmi'] = ide.find('nfe:dhEmi', ns).text\n",
    "            \n",
    "            # Emitente\n",
    "            emit = infNFe.find('nfe:emit', ns)\n",
    "            record['emit_xNome'] = emit.find('nfe:xNome', ns).text\n",
    "            \n",
    "            # Destinatário\n",
    "            dest = infNFe.find('nfe:dest', ns)\n",
    "            record['dest_xNome'] = dest.find('nfe:xNome', ns).text\n",
    "            \n",
    "            # Produto\n",
    "            prod = det.find('nfe:prod', ns)\n",
    "            record['cProd'] = prod.find('nfe:cProd', ns).text\n",
    "            record['xProd'] = prod.find('nfe:xProd', ns).text\n",
    "            record['qCom'] = prod.find('nfe:qCom', ns).text\n",
    "            record['vUnCom'] = prod.find('nfe:vUnCom', ns).text\n",
    "            record['vProd_entrada'] = prod.find('nfe:vProd', ns).text\n",
    "            \n",
    "            # Informação adicional do produto (infAdProd)\n",
    "            cProd = prod.find('nfe:cProd', ns).text\n",
    "            infAdProd_text = infAdProds.get(cProd, None)\n",
    "            record['infAdProd'] = infAdProd_text\n",
    "            \n",
    "            records.append(record)\n",
    "    \n",
    "    return records\n",
    "\n",
    "# Função para extrair informações de infAdProd de um único arquivo XML\n",
    "def extract_infAdProd(file_path):\n",
    "    ns = {'nfe': 'http://www.portalfiscal.inf.br/nfe'}\n",
    "    infAdProds = {}\n",
    "    tree = ET.parse(file_path)\n",
    "    root = tree.getroot()\n",
    "    for det in root.findall('.//nfe:det', ns):\n",
    "        cProd = det.find('nfe:prod/nfe:cProd', ns).text\n",
    "        infAdProd = det.find('nfe:infAdProd', ns)\n",
    "        if infAdProd is not None:\n",
    "            infAdProd_text = infAdProd.text.strip()\n",
    "            #print(f\"infAdProd encontrado para cProd {cProd}: {infAdProd_text}\")  # Debugging\n",
    "            infAdProds[cProd] = infAdProd_text\n",
    "        else:\n",
    "            infAdProds[cProd] = None\n",
    "            print(f\"infAdProd não encontrado para cProd {cProd}\")  # Debugging\n",
    "    return infAdProds\n",
    "\n",
    "# Caminho para a pasta com os arquivos XML\n",
    "folder_path = 'notas\\entradas_nf'  # Substitua pelo caminho da sua pasta\n",
    "\n",
    "# Dicionário para armazenar informações de infAdProd de cada arquivo XML\n",
    "all_infAdProds = {}\n",
    "\n",
    "# Lista para armazenar todas as informações extraídas\n",
    "all_data = []\n",
    "\n",
    "# Iterar sobre todos os arquivos XML na pasta\n",
    "for filename in os.listdir(folder_path):\n",
    "    if filename.endswith('.xml'):\n",
    "        file_path = os.path.join(folder_path, filename)\n",
    "        #print(f\"Processando arquivo: {filename}\")  # Debugging\n",
    "        \n",
    "        # Extrair informações de infAdProd do arquivo XML\n",
    "        infAdProds = extract_infAdProd(file_path)\n",
    "        all_infAdProds.update(infAdProds)  # Atualizar dicionário com as informações\n",
    "        \n",
    "        # Parse do arquivo XML\n",
    "        tree = ET.parse(file_path)\n",
    "        root = tree.getroot()\n",
    "        \n",
    "        # Extrair informações da NF-e do arquivo XML\n",
    "        data = extract_info(root, infAdProds)\n",
    "        all_data.extend(data)\n",
    "\n",
    "# Converter para DataFrame\n",
    "df = pd.DataFrame(all_data)\n",
    "\n",
    "# Exibir o DataFrame\n",
    "# Expressão regular para extrair cada informação\n",
    "pattern = r'Veiculo:(?P<Veiculo>\\w+) Placa:(?P<Placa>\\w+) Chassi:(?P<Chassi>\\w+) Renavan:(?P<Renavan>\\w+) Combustivel:(?P<Combustivel>\\w+) Cor:(?P<Cor>\\w+)'\n",
    "\n",
    "# Extrair informações para colunas separadas\n",
    "df_extraido = df['infAdProd'].str.extract(pattern)\n",
    "\n",
    "# Concatenar ao DataFrame original\n",
    "df_completo_entrada = pd.concat([df, df_extraido], axis=1)\n",
    "\n",
    "# Exibir o resultado\n",
    "df_completo_entrada\n",
    "\n",
    "df_completo_entrada.to_excel('carros_entrada.xlsx', index=False)"
   ]
  },
  {
   "cell_type": "code",
   "execution_count": 5,
   "metadata": {},
   "outputs": [
    {
     "name": "stderr",
     "output_type": "stream",
     "text": [
      "<>:68: SyntaxWarning: invalid escape sequence '\\s'\n",
      "<>:68: SyntaxWarning: invalid escape sequence '\\s'\n",
      "C:\\Users\\diego\\AppData\\Local\\Temp\\ipykernel_5380\\2531881055.py:68: SyntaxWarning: invalid escape sequence '\\s'\n",
      "  folder_path = 'notas\\saidas_nf'  # Substitua pelo caminho da sua pasta\n"
     ]
    }
   ],
   "source": [
    "import pandas as pd\n",
    "import xml.etree.ElementTree as ET\n",
    "import os\n",
    "\n",
    "# Função para extrair informações de um único arquivo XML\n",
    "def extract_info(xml_root, infAdProds):\n",
    "    ns = {'nfe': 'http://www.portalfiscal.inf.br/nfe'}\n",
    "    records = []\n",
    "    \n",
    "    # Iterar sobre os detalhes da NF-e\n",
    "    for infNFe in xml_root.findall('.//nfe:infNFe', ns):\n",
    "        for det in infNFe.findall('nfe:det', ns):\n",
    "            record = {}\n",
    "            \n",
    "            # Informações gerais da NF-e\n",
    "            ide = infNFe.find('nfe:ide', ns)\n",
    "            record['cUF'] = ide.find('nfe:cUF', ns).text\n",
    "            record['natOp'] = ide.find('nfe:natOp', ns).text\n",
    "            record['mod'] = ide.find('nfe:mod', ns).text\n",
    "            record['serie'] = ide.find('nfe:serie', ns).text\n",
    "            record['nNF'] = ide.find('nfe:nNF', ns).text\n",
    "            record['dhEmi'] = ide.find('nfe:dhEmi', ns).text\n",
    "            \n",
    "            # Emitente\n",
    "            emit = infNFe.find('nfe:emit', ns)\n",
    "            record['emit_xNome'] = emit.find('nfe:xNome', ns).text\n",
    "            \n",
    "            # Destinatário\n",
    "            dest = infNFe.find('nfe:dest', ns)\n",
    "            record['dest_xNome'] = dest.find('nfe:xNome', ns).text\n",
    "            \n",
    "            # Produto\n",
    "            prod = det.find('nfe:prod', ns)\n",
    "            record['cProd'] = prod.find('nfe:cProd', ns).text\n",
    "            record['xProd'] = prod.find('nfe:xProd', ns).text\n",
    "            record['qCom'] = prod.find('nfe:qCom', ns).text\n",
    "            record['vUnCom'] = prod.find('nfe:vUnCom', ns).text\n",
    "            record['vProd_saida'] = prod.find('nfe:vProd', ns).text\n",
    "            \n",
    "            # Informação adicional do produto (infAdProd)\n",
    "            cProd = prod.find('nfe:cProd', ns).text\n",
    "            infAdProd_text = infAdProds.get(cProd, None)\n",
    "            record['infAdProd'] = infAdProd_text\n",
    "            \n",
    "            records.append(record)\n",
    "    \n",
    "    return records\n",
    "\n",
    "# Função para extrair informações de infAdProd de um único arquivo XML\n",
    "def extract_infAdProd(file_path):\n",
    "    ns = {'nfe': 'http://www.portalfiscal.inf.br/nfe'}\n",
    "    infAdProds = {}\n",
    "    tree = ET.parse(file_path)\n",
    "    root = tree.getroot()\n",
    "    for det in root.findall('.//nfe:det', ns):\n",
    "        cProd = det.find('nfe:prod/nfe:cProd', ns).text\n",
    "        infAdProd = det.find('nfe:infAdProd', ns)\n",
    "        if infAdProd is not None:\n",
    "            infAdProd_text = infAdProd.text.strip()\n",
    "            #print(f\"infAdProd encontrado para cProd {cProd}: {infAdProd_text}\")  # Debugging\n",
    "            infAdProds[cProd] = infAdProd_text\n",
    "        else:\n",
    "            infAdProds[cProd] = None\n",
    "            print(f\"infAdProd não encontrado para cProd {cProd}\")  # Debugging\n",
    "    return infAdProds\n",
    "\n",
    "# Caminho para a pasta com os arquivos XML\n",
    "folder_path = 'notas\\saidas_nf'  # Substitua pelo caminho da sua pasta\n",
    "\n",
    "# Dicionário para armazenar informações de infAdProd de cada arquivo XML\n",
    "all_infAdProds = {}\n",
    "\n",
    "# Lista para armazenar todas as informações extraídas\n",
    "all_data = []\n",
    "\n",
    "# Iterar sobre todos os arquivos XML na pasta\n",
    "for filename in os.listdir(folder_path):\n",
    "    if filename.endswith('.xml'):\n",
    "        file_path = os.path.join(folder_path, filename)\n",
    "        #print(f\"Processando arquivo: {filename}\")  # Debugging\n",
    "        \n",
    "        # Extrair informações de infAdProd do arquivo XML\n",
    "        infAdProds = extract_infAdProd(file_path)\n",
    "        all_infAdProds.update(infAdProds)  # Atualizar dicionário com as informações\n",
    "        \n",
    "        # Parse do arquivo XML\n",
    "        tree = ET.parse(file_path)\n",
    "        root = tree.getroot()\n",
    "        \n",
    "        # Extrair informações da NF-e do arquivo XML\n",
    "        data = extract_info(root, infAdProds)\n",
    "        all_data.extend(data)\n",
    "\n",
    "# Converter para DataFrame\n",
    "df = pd.DataFrame(all_data)\n",
    "\n",
    "# Exibir o DataFrame\n",
    "# Expressão regular para extrair cada informação\n",
    "pattern = r'Veiculo:(?P<Veiculo>\\w+) Placa:(?P<Placa>\\w+) Chassi:(?P<Chassi>\\w+) Renavan:(?P<Renavan>\\w+) Combustivel:(?P<Combustivel>\\w+) Cor:(?P<Cor>\\w+)'\n",
    "\n",
    "# Extrair informações para colunas separadas\n",
    "df_extraido = df['infAdProd'].str.extract(pattern)\n",
    "\n",
    "# Concatenar ao DataFrame original\n",
    "df_completo_saida = pd.concat([df, df_extraido], axis=1)\n",
    "\n",
    "# Exibir o resultado\n",
    "df_completo_saida\n",
    "df_completo_saida.to_excel('carros_saida.xlsx', index=False)"
   ]
  },
  {
   "cell_type": "code",
   "execution_count": 6,
   "metadata": {},
   "outputs": [
    {
     "data": {
      "text/plain": [
       "Index(['cUF', 'natOp', 'mod', 'serie', 'nNF', 'dhEmi', 'emit_xNome',\n",
       "       'dest_xNome', 'cProd', 'xProd', 'qCom', 'vUnCom', 'vProd_entrada',\n",
       "       'infAdProd', 'Veiculo', 'Placa', 'Chassi', 'Renavan', 'Combustivel',\n",
       "       'Cor'],\n",
       "      dtype='object')"
      ]
     },
     "execution_count": 6,
     "metadata": {},
     "output_type": "execute_result"
    }
   ],
   "source": [
    "df_completo_entrada.columns"
   ]
  },
  {
   "cell_type": "code",
   "execution_count": 7,
   "metadata": {},
   "outputs": [],
   "source": [
    "df_compra_resumdo = df_completo_entrada[['vProd_entrada',\n",
    "       'Veiculo', 'Placa']]"
   ]
  },
  {
   "cell_type": "code",
   "execution_count": 8,
   "metadata": {},
   "outputs": [
    {
     "data": {
      "text/plain": [
       "Index(['cUF', 'natOp', 'mod', 'serie', 'nNF', 'dhEmi', 'emit_xNome',\n",
       "       'dest_xNome', 'cProd', 'xProd', 'qCom', 'vUnCom', 'vProd_saida',\n",
       "       'infAdProd', 'Veiculo', 'Placa', 'Chassi', 'Renavan', 'Combustivel',\n",
       "       'Cor'],\n",
       "      dtype='object')"
      ]
     },
     "execution_count": 8,
     "metadata": {},
     "output_type": "execute_result"
    }
   ],
   "source": [
    "df_completo_saida.columns"
   ]
  },
  {
   "cell_type": "code",
   "execution_count": 9,
   "metadata": {},
   "outputs": [],
   "source": [
    "df_venda_resumido= df_completo_saida[['natOp', 'nNF', 'dhEmi', 'cProd', 'xProd', 'qCom', 'vUnCom', 'vProd_saida',\n",
    "       'infAdProd', 'Veiculo', 'Placa', 'Chassi', 'Renavan', 'Combustivel',\n",
    "       'Cor']]"
   ]
  },
  {
   "cell_type": "code",
   "execution_count": 10,
   "metadata": {},
   "outputs": [],
   "source": [
    "# Realize a junção com a coluna 'Placa' como chave\n",
    "df_merge = df_venda_resumido.merge(df_compra_resumdo, how='inner', on='Placa', suffixes=('_venda', '_compra'))"
   ]
  },
  {
   "cell_type": "code",
   "execution_count": null,
   "metadata": {},
   "outputs": [],
   "source": [
    "df_merge"
   ]
  },
  {
   "cell_type": "code",
   "execution_count": 13,
   "metadata": {},
   "outputs": [],
   "source": [
    "df_merge.to_excel('planilha_de_comparacao.xlsx', index=False)"
   ]
  }
 ],
 "metadata": {
  "kernelspec": {
   "display_name": "venv",
   "language": "python",
   "name": "python3"
  },
  "language_info": {
   "codemirror_mode": {
    "name": "ipython",
    "version": 3
   },
   "file_extension": ".py",
   "mimetype": "text/x-python",
   "name": "python",
   "nbconvert_exporter": "python",
   "pygments_lexer": "ipython3",
   "version": "3.12.0"
  }
 },
 "nbformat": 4,
 "nbformat_minor": 2
}
